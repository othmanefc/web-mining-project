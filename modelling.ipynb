{
 "cells": [
  {
   "cell_type": "code",
   "execution_count": 21,
   "id": "55cde399-94a4-46c6-b7a7-74e7c895c05d",
   "metadata": {},
   "outputs": [],
   "source": [
    "import lightgbm as lgbm\n",
    "import xgboost as xgb\n",
    "from sklearn.model_selection import train_test_split, KFold\n",
    "from sklearn.metrics import mean_absolute_error, make_scorer\n",
    "from sklearn.preprocessing import StandardScaler, OrdinalEncoder, LabelEncoder, OneHotEncoder\n",
    "from sklearn.pipeline import FeatureUnion, Pipeline, make_pipeline\n",
    "from sklearn.impute import SimpleImputer\n",
    "from sklearn.compose import ColumnTransformer\n",
    "from skopt.space import Real, Integer\n",
    "from scipy import sparse as ssp\n",
    "import pandas as pd\n",
    "\n",
    "import numpy as np\n",
    "import matplotlib.pyplot as plt\n",
    "import seaborn as sns\n",
    "\n",
    "from utils import load_data\n",
    "from modelling import plot_estimators, tune_param"
   ]
  },
  {
   "cell_type": "code",
   "execution_count": 2,
   "id": "57ac3d31-272a-41c9-aadd-1229b3ffdb8c",
   "metadata": {},
   "outputs": [],
   "source": [
    "PATH_DATA = 'comments_processed.ft'\n",
    "\n",
    "train_df, test_df = load_data(PATH_DATA, split=True, is_csv=False)"
   ]
  },
  {
   "cell_type": "markdown",
   "id": "9c594abb-1bd4-45f2-8bc5-1a5978d1410a",
   "metadata": {},
   "source": [
    "Let's split columns through types and apply a transformation to each, with encoding for categorical variables and scaling for numerical ones"
   ]
  },
  {
   "cell_type": "code",
   "execution_count": 3,
   "id": "e5eed2fd-a001-493d-9dd5-580b6f18238a",
   "metadata": {},
   "outputs": [],
   "source": [
    "drop_cols = ['subreddit', 'ups', \n",
    "             'link_id', 'id', 'name', 'body', 'author', 'parent_id',\n",
    "             'subreddit_id']\n",
    "categorical_cols = ['is_root', 'weekday', 'deleted', 'author_is_influential', \n",
    "                    'contains_url', 'contains_html', 'author_is_moderator', 'clusters']\n",
    "\n",
    "numeric_cols = [col for col in train_df.select_dtypes(include=np.number).columns\n",
    "                if col not in drop_cols and col not in categorical_cols]\n",
    "\n",
    "numerical_transformer = Pipeline(steps=[\n",
    "    ('imputer', SimpleImputer(strategy='constant', fill_value=0)),\n",
    "    ('scaler', StandardScaler())])\n",
    "categorical_transformer = Pipeline(steps=[\n",
    "    ('imputer', SimpleImputer()),\n",
    "    ('encoder', OrdinalEncoder())\n",
    "])\n",
    "\n",
    "preprocessor = ColumnTransformer(\n",
    "    transformers=[\n",
    "        ('numeric_variables', numerical_transformer, numeric_cols),\n",
    "        ('categorical_variables', categorical_transformer, categorical_cols)\n",
    "    ])"
   ]
  },
  {
   "cell_type": "code",
   "execution_count": 4,
   "id": "c537c2d9-858e-443c-aa8a-857c9f8e85f7",
   "metadata": {},
   "outputs": [
    {
     "name": "stdout",
     "output_type": "stream",
     "text": [
      "fitting...\n",
      "[Pipeline] ......... (step 1 of 2) Processing data_prep, total=   4.4s\n",
      "[Pipeline] .............. (step 2 of 2) Processing lgbm, total=   4.0s\n",
      "fitting...\n",
      "[Pipeline] ......... (step 1 of 2) Processing data_prep, total=   4.5s\n",
      "[Pipeline] ............... (step 2 of 2) Processing xgb, total= 2.5min\n"
     ]
    }
   ],
   "source": [
    "estimators = [\n",
    "    ('lgbm', lgbm.LGBMRegressor()),\n",
    "    ('xgb', xgb.XGBRegressor())\n",
    "]\n",
    "pipe_all = Pipeline(steps=[('col_transfo', preprocessor)])\n",
    "pipes = {}\n",
    "for model in estimators:\n",
    "    print('fitting...')\n",
    "    pipe = Pipeline(steps=[('data_prep', pipe_all), model], verbose=True)\n",
    "    pipe.fit(train_df.drop(columns='ups'), train_df.ups)\n",
    "    pipes[pipe.steps[1][0]] = pipe"
   ]
  },
  {
   "cell_type": "markdown",
   "id": "b5e28de9-e0ef-4df5-b51c-f2966743086c",
   "metadata": {},
   "source": [
    "Let's plot cross_validation results to see how models compare"
   ]
  },
  {
   "cell_type": "code",
   "execution_count": 22,
   "id": "11c6db68-32da-480f-8a70-5a1be045adbd",
   "metadata": {},
   "outputs": [
    {
     "name": "stdout",
     "output_type": "stream",
     "text": [
      "CV on lgbm\n"
     ]
    },
    {
     "name": "stderr",
     "output_type": "stream",
     "text": [
      "[Parallel(n_jobs=-1)]: Using backend LokyBackend with 24 concurrent workers.\n",
      "[Parallel(n_jobs=-1)]: Done   5 out of   5 | elapsed:   55.5s finished\n"
     ]
    },
    {
     "name": "stdout",
     "output_type": "stream",
     "text": [
      "CV on xgb\n"
     ]
    },
    {
     "name": "stderr",
     "output_type": "stream",
     "text": [
      "[Parallel(n_jobs=-1)]: Using backend LokyBackend with 24 concurrent workers.\n",
      "[Parallel(n_jobs=-1)]: Done   5 out of   5 | elapsed: 13.4min finished\n"
     ]
    },
    {
     "data": {
      "image/png": "[encoded data removed]",
      "text/plain": [
       "<Figure size 432x288 with 1 Axes>"
      ]
     },
     "metadata": {
      "needs_background": "light"
     },
     "output_type": "display_data"
    }
   ],
   "source": [
    "_metrics={'mae': make_scorer(mean_absolute_error)}\n",
    "estimator_names=[model[0] for model in estimators]\n",
    "\n",
    "plot_estimators(pipes=pipes, estimators=estimator_names, \n",
    "                n_splits=5, data=train_df.drop(columns='ups'), \n",
    "                target=train_df.ups, metrics=_metrics)"
   ]
  },
  {
   "cell_type": "markdown",
   "id": "4321b1eb-5aa9-4926-8f12-5bc9f1879cbc",
   "metadata": {},
   "source": [
    "For the rest of the modelling, we will only keep the Lightboost part. So let's fine tune the model by using a Bayesian Search Cross validation from sklearn"
   ]
  },
  {
   "cell_type": "code",
   "execution_count": 12,
   "id": "11e7ee7b-35c5-4d9e-b0cf-0430c2c3614f",
   "metadata": {},
   "outputs": [
    {
     "name": "stdout",
     "output_type": "stream",
     "text": [
      "Fitting 5 folds for each of 1 candidates, totalling 5 fits\n"
     ]
    },
    {
     "name": "stderr",
     "output_type": "stream",
     "text": [
      "[Parallel(n_jobs=-1)]: Using backend LokyBackend with 24 concurrent workers.\n",
      "[Parallel(n_jobs=-1)]: Done   5 out of   5 | elapsed:  2.1min finished\n"
     ]
    },
    {
     "name": "stdout",
     "output_type": "stream",
     "text": [
      "Fitting 5 folds for each of 1 candidates, totalling 5 fits\n"
     ]
    },
    {
     "name": "stderr",
     "output_type": "stream",
     "text": [
      "[Parallel(n_jobs=-1)]: Using backend LokyBackend with 24 concurrent workers.\n",
      "[Parallel(n_jobs=-1)]: Done   5 out of   5 | elapsed:  2.9min finished\n"
     ]
    },
    {
     "name": "stdout",
     "output_type": "stream",
     "text": [
      "Fitting 5 folds for each of 1 candidates, totalling 5 fits\n"
     ]
    },
    {
     "name": "stderr",
     "output_type": "stream",
     "text": [
      "[Parallel(n_jobs=-1)]: Using backend LokyBackend with 24 concurrent workers.\n",
      "[Parallel(n_jobs=-1)]: Done   5 out of   5 | elapsed:  2.2min finished\n"
     ]
    },
    {
     "name": "stdout",
     "output_type": "stream",
     "text": [
      "Fitting 5 folds for each of 1 candidates, totalling 5 fits\n"
     ]
    },
    {
     "name": "stderr",
     "output_type": "stream",
     "text": [
      "[Parallel(n_jobs=-1)]: Using backend LokyBackend with 24 concurrent workers.\n",
      "[Parallel(n_jobs=-1)]: Done   5 out of   5 | elapsed:  2.9min finished\n"
     ]
    },
    {
     "name": "stdout",
     "output_type": "stream",
     "text": [
      "Fitting 5 folds for each of 1 candidates, totalling 5 fits\n"
     ]
    },
    {
     "name": "stderr",
     "output_type": "stream",
     "text": [
      "[Parallel(n_jobs=-1)]: Using backend LokyBackend with 24 concurrent workers.\n",
      "[Parallel(n_jobs=-1)]: Done   5 out of   5 | elapsed:  2.0min finished\n"
     ]
    },
    {
     "name": "stdout",
     "output_type": "stream",
     "text": [
      "Fitting 5 folds for each of 1 candidates, totalling 5 fits\n"
     ]
    },
    {
     "name": "stderr",
     "output_type": "stream",
     "text": [
      "[Parallel(n_jobs=-1)]: Using backend LokyBackend with 24 concurrent workers.\n",
      "[Parallel(n_jobs=-1)]: Done   5 out of   5 | elapsed:  2.3min finished\n"
     ]
    },
    {
     "name": "stdout",
     "output_type": "stream",
     "text": [
      "Fitting 5 folds for each of 1 candidates, totalling 5 fits\n"
     ]
    },
    {
     "name": "stderr",
     "output_type": "stream",
     "text": [
      "[Parallel(n_jobs=-1)]: Using backend LokyBackend with 24 concurrent workers.\n",
      "[Parallel(n_jobs=-1)]: Done   5 out of   5 | elapsed:  1.5min finished\n"
     ]
    },
    {
     "name": "stdout",
     "output_type": "stream",
     "text": [
      "Fitting 5 folds for each of 1 candidates, totalling 5 fits\n"
     ]
    },
    {
     "name": "stderr",
     "output_type": "stream",
     "text": [
      "[Parallel(n_jobs=-1)]: Using backend LokyBackend with 24 concurrent workers.\n",
      "[Parallel(n_jobs=-1)]: Done   5 out of   5 | elapsed:  1.1min finished\n"
     ]
    },
    {
     "name": "stdout",
     "output_type": "stream",
     "text": [
      "Fitting 5 folds for each of 1 candidates, totalling 5 fits\n"
     ]
    },
    {
     "name": "stderr",
     "output_type": "stream",
     "text": [
      "[Parallel(n_jobs=-1)]: Using backend LokyBackend with 24 concurrent workers.\n",
      "[Parallel(n_jobs=-1)]: Done   5 out of   5 | elapsed:  2.3min finished\n"
     ]
    },
    {
     "name": "stdout",
     "output_type": "stream",
     "text": [
      "Fitting 5 folds for each of 1 candidates, totalling 5 fits\n"
     ]
    },
    {
     "name": "stderr",
     "output_type": "stream",
     "text": [
      "[Parallel(n_jobs=-1)]: Using backend LokyBackend with 24 concurrent workers.\n",
      "[Parallel(n_jobs=-1)]: Done   5 out of   5 | elapsed:  1.2min finished\n"
     ]
    },
    {
     "name": "stdout",
     "output_type": "stream",
     "text": [
      "Fitting 5 folds for each of 1 candidates, totalling 5 fits\n"
     ]
    },
    {
     "name": "stderr",
     "output_type": "stream",
     "text": [
      "[Parallel(n_jobs=-1)]: Using backend LokyBackend with 24 concurrent workers.\n",
      "[Parallel(n_jobs=-1)]: Done   5 out of   5 | elapsed:  2.1min finished\n"
     ]
    },
    {
     "name": "stdout",
     "output_type": "stream",
     "text": [
      "Fitting 5 folds for each of 1 candidates, totalling 5 fits\n"
     ]
    },
    {
     "name": "stderr",
     "output_type": "stream",
     "text": [
      "[Parallel(n_jobs=-1)]: Using backend LokyBackend with 24 concurrent workers.\n",
      "[Parallel(n_jobs=-1)]: Done   5 out of   5 | elapsed:  1.5min finished\n"
     ]
    },
    {
     "name": "stdout",
     "output_type": "stream",
     "text": [
      "Fitting 5 folds for each of 1 candidates, totalling 5 fits\n"
     ]
    },
    {
     "name": "stderr",
     "output_type": "stream",
     "text": [
      "[Parallel(n_jobs=-1)]: Using backend LokyBackend with 24 concurrent workers.\n",
      "[Parallel(n_jobs=-1)]: Done   5 out of   5 | elapsed:  1.5min finished\n"
     ]
    },
    {
     "name": "stdout",
     "output_type": "stream",
     "text": [
      "Fitting 5 folds for each of 1 candidates, totalling 5 fits\n"
     ]
    },
    {
     "name": "stderr",
     "output_type": "stream",
     "text": [
      "[Parallel(n_jobs=-1)]: Using backend LokyBackend with 24 concurrent workers.\n",
      "[Parallel(n_jobs=-1)]: Done   5 out of   5 | elapsed:  2.2min finished\n"
     ]
    },
    {
     "name": "stdout",
     "output_type": "stream",
     "text": [
      "Fitting 5 folds for each of 1 candidates, totalling 5 fits\n"
     ]
    },
    {
     "name": "stderr",
     "output_type": "stream",
     "text": [
      "[Parallel(n_jobs=-1)]: Using backend LokyBackend with 24 concurrent workers.\n",
      "[Parallel(n_jobs=-1)]: Done   5 out of   5 | elapsed:   58.0s finished\n"
     ]
    },
    {
     "name": "stdout",
     "output_type": "stream",
     "text": [
      "Fitting 5 folds for each of 1 candidates, totalling 5 fits\n"
     ]
    },
    {
     "name": "stderr",
     "output_type": "stream",
     "text": [
      "[Parallel(n_jobs=-1)]: Using backend LokyBackend with 24 concurrent workers.\n",
      "[Parallel(n_jobs=-1)]: Done   5 out of   5 | elapsed:  3.4min finished\n"
     ]
    },
    {
     "name": "stdout",
     "output_type": "stream",
     "text": [
      "Fitting 5 folds for each of 1 candidates, totalling 5 fits\n"
     ]
    },
    {
     "name": "stderr",
     "output_type": "stream",
     "text": [
      "[Parallel(n_jobs=-1)]: Using backend LokyBackend with 24 concurrent workers.\n",
      "[Parallel(n_jobs=-1)]: Done   5 out of   5 | elapsed:   54.9s finished\n"
     ]
    },
    {
     "name": "stdout",
     "output_type": "stream",
     "text": [
      "Fitting 5 folds for each of 1 candidates, totalling 5 fits\n"
     ]
    },
    {
     "name": "stderr",
     "output_type": "stream",
     "text": [
      "[Parallel(n_jobs=-1)]: Using backend LokyBackend with 24 concurrent workers.\n",
      "[Parallel(n_jobs=-1)]: Done   5 out of   5 | elapsed:  2.7min finished\n"
     ]
    },
    {
     "name": "stdout",
     "output_type": "stream",
     "text": [
      "Fitting 5 folds for each of 1 candidates, totalling 5 fits\n"
     ]
    },
    {
     "name": "stderr",
     "output_type": "stream",
     "text": [
      "[Parallel(n_jobs=-1)]: Using backend LokyBackend with 24 concurrent workers.\n",
      "[Parallel(n_jobs=-1)]: Done   5 out of   5 | elapsed:  3.3min finished\n"
     ]
    },
    {
     "name": "stdout",
     "output_type": "stream",
     "text": [
      "Fitting 5 folds for each of 1 candidates, totalling 5 fits\n"
     ]
    },
    {
     "name": "stderr",
     "output_type": "stream",
     "text": [
      "[Parallel(n_jobs=-1)]: Using backend LokyBackend with 24 concurrent workers.\n",
      "[Parallel(n_jobs=-1)]: Done   5 out of   5 | elapsed:  1.2min finished\n"
     ]
    },
    {
     "name": "stdout",
     "output_type": "stream",
     "text": [
      "[Pipeline] ......... (step 1 of 2) Processing data_prep, total=   4.4s\n",
      "[Pipeline] .............. (step 2 of 2) Processing lgbm, total=  10.5s\n",
      "best score: -8.25260641613107\n",
      "best params: OrderedDict([('lgbm__feature_fraction', 0.8195185734374574), ('lgbm__learning_rate', 0.06674786833218642), ('lgbm__max_depth', 10), ('lgbm__min_child_weight', 0.20874185467175646), ('lgbm__min_split_gain', 0.22636707243148557), ('lgbm__n_estimators', 233), ('lgbm__num_leaves', 99), ('lgbm__subsample', 0.969699780950025)])\n"
     ]
    },
    {
     "ename": "NameError",
     "evalue": "name 'pd' is not defined",
     "output_type": "error",
     "traceback": [
      "\u001b[0;31m---------------------------------------------------------------------------\u001b[0m",
      "\u001b[0;31mNameError\u001b[0m                                 Traceback (most recent call last)",
      "\u001b[0;32m<ipython-input-12-dade3b777ab2>\u001b[0m in \u001b[0;36m<module>\u001b[0;34m\u001b[0m\n\u001b[1;32m      8\u001b[0m               'feature_fraction': Real(0.7, 0.9)}\n\u001b[1;32m      9\u001b[0m \u001b[0;34m\u001b[0m\u001b[0m\n\u001b[0;32m---> 10\u001b[0;31m lgbcv, results = tune_param(model='lgbm',\n\u001b[0m\u001b[1;32m     11\u001b[0m                             \u001b[0mpipes\u001b[0m\u001b[0;34m=\u001b[0m\u001b[0mpipes\u001b[0m\u001b[0;34m,\u001b[0m\u001b[0;34m\u001b[0m\u001b[0;34m\u001b[0m\u001b[0m\n\u001b[1;32m     12\u001b[0m                             \u001b[0mparam_grid\u001b[0m\u001b[0;34m=\u001b[0m\u001b[0mparam_grid\u001b[0m\u001b[0;34m,\u001b[0m\u001b[0;34m\u001b[0m\u001b[0;34m\u001b[0m\u001b[0m\n",
      "\u001b[0;32m<ipython-input-6-888664772010>\u001b[0m in \u001b[0;36mtune_param\u001b[0;34m(model, pipes, param_grid, refit, data, target, cv, n_iter)\u001b[0m\n\u001b[1;32m     18\u001b[0m     \u001b[0mprint\u001b[0m\u001b[0;34m(\u001b[0m\u001b[0;34m'best score: '\u001b[0m \u001b[0;34m+\u001b[0m \u001b[0mstr\u001b[0m\u001b[0;34m(\u001b[0m\u001b[0mxgbcv\u001b[0m\u001b[0;34m.\u001b[0m\u001b[0mbest_score_\u001b[0m\u001b[0;34m)\u001b[0m\u001b[0;34m)\u001b[0m\u001b[0;34m\u001b[0m\u001b[0;34m\u001b[0m\u001b[0m\n\u001b[1;32m     19\u001b[0m     \u001b[0mprint\u001b[0m\u001b[0;34m(\u001b[0m\u001b[0;34m'best params: '\u001b[0m \u001b[0;34m+\u001b[0m \u001b[0mstr\u001b[0m\u001b[0;34m(\u001b[0m\u001b[0mxgbcv\u001b[0m\u001b[0;34m.\u001b[0m\u001b[0mbest_params_\u001b[0m\u001b[0;34m)\u001b[0m\u001b[0;34m)\u001b[0m\u001b[0;34m\u001b[0m\u001b[0;34m\u001b[0m\u001b[0m\n\u001b[0;32m---> 20\u001b[0;31m     \u001b[0mresults\u001b[0m \u001b[0;34m=\u001b[0m \u001b[0mpd\u001b[0m\u001b[0;34m.\u001b[0m\u001b[0mDataFrame\u001b[0m\u001b[0;34m(\u001b[0m\u001b[0mxgbcv\u001b[0m\u001b[0;34m.\u001b[0m\u001b[0mcv_results_\u001b[0m\u001b[0;34m)\u001b[0m\u001b[0;34m\u001b[0m\u001b[0;34m\u001b[0m\u001b[0m\n\u001b[0m\u001b[1;32m     21\u001b[0m \u001b[0;34m\u001b[0m\u001b[0m\n\u001b[1;32m     22\u001b[0m     \u001b[0;32mreturn\u001b[0m \u001b[0mxgbcv\u001b[0m\u001b[0;34m,\u001b[0m \u001b[0mresults\u001b[0m\u001b[0;34m\u001b[0m\u001b[0;34m\u001b[0m\u001b[0m\n",
      "\u001b[0;31mNameError\u001b[0m: name 'pd' is not defined"
     ]
    }
   ],
   "source": [
    "param_grid = {'num_leaves': Integer(20, 100),\n",
    "              'learning_rate': Real(1e-3, .3),\n",
    "              'n_estimators': Integer(100, 1000),\n",
    "              'subsample': Real(0.7, 1),\n",
    "              'max_depth': Integer(3, 15),\n",
    "              'min_child_weight': Real(0.01, 0.5),\n",
    "              'min_split_gain': Real(0, 0.3),\n",
    "              'feature_fraction': Real(0.7, 0.9)}\n",
    "\n",
    "lgbcv, results = tune_param(model='lgbm',\n",
    "                            pipes=pipes,\n",
    "                            param_grid=param_grid,\n",
    "                            refit=True,\n",
    "                            data = train_df.drop(columns='ups'),\n",
    "                            target=train_df.ups,\n",
    "                            cv=5,\n",
    "                            n_iter=20)\n",
    "best_params = lgbcv.best_params_"
   ]
  },
  {
   "cell_type": "code",
   "execution_count": 14,
   "id": "5f04883f-8386-4b10-933f-09a53f461073",
   "metadata": {},
   "outputs": [],
   "source": [
    "best_params =  {'lgbm__feature_fraction': 0.8195185734374574, \n",
    "                'lgbm__learning_rate': 0.06674786833218642, \n",
    "                'lgbm__max_depth': 10, \n",
    "                'lgbm__min_child_weight': 0.20874185467175646,\n",
    "                'lgbm__min_split_gain': 0.22636707243148557, \n",
    "                'lgbm__n_estimators': 233,\n",
    "                'lgbm__num_leaves': 99,\n",
    "                'lgbm__subsample': 0.969699780950025}\n",
    "best_params = {k[6:]: v for k,v in best_params.items()}"
   ]
  },
  {
   "cell_type": "markdown",
   "id": "d7d37f70-c2fd-483b-b470-bab17ae900d0",
   "metadata": {},
   "source": [
    "We will now use the best parameters to train our model and make predictions.\n",
    "We will encode our categorical variables using OneHotEncoder, since the number of columns will be high we will sparse our dataset"
   ]
  },
  {
   "cell_type": "code",
   "execution_count": 16,
   "id": "cbb60174-a717-4e7f-bc4c-71d3c2ba116c",
   "metadata": {},
   "outputs": [
    {
     "name": "stdout",
     "output_type": "stream",
     "text": [
      "Encoding...\n",
      "Encoding done...\n",
      "sparsing...\n",
      "sparsing done...\n"
     ]
    }
   ],
   "source": [
    "Xx, yy = train_df.drop(columns=drop_cols), train_df.ups.values\n",
    "XX_t = test_df.drop(columns=drop_cols)\n",
    "\n",
    "\n",
    "print('Encoding...')\n",
    "for c in categorical_cols:\n",
    "    le = LabelEncoder()\n",
    "    le.fit(Xx[c])\n",
    "    Xx[c] = le.transform(Xx[c])\n",
    "\n",
    "enc = OneHotEncoder()\n",
    "enc.fit(train_df[categorical_cols])\n",
    "X_cat = enc.transform(Xx[categorical_cols])\n",
    "X_t_cat = enc.transform(XX_t[categorical_cols])\n",
    "print('Encoding done...')\n",
    "\n",
    "print('sparsing...')\n",
    "train_list = [Xx.drop(columns=categorical_cols).values,X_cat,]\n",
    "X = ssp.hstack(train_list).tocsr()\n",
    "test_list = [XX_t.drop(columns=categorical_cols).values,X_t_cat,]\n",
    "X_test = ssp.hstack(test_list).tocsr()\n",
    "print('sparsing done...')"
   ]
  },
  {
   "cell_type": "markdown",
   "id": "67aacff2-ed45-4573-a4d6-af0e51ce46ec",
   "metadata": {},
   "source": [
    "The last part is basically running a cross-validation on the train dataset and for each fold predicting our test set, and then taking the mean"
   ]
  },
  {
   "cell_type": "code",
   "execution_count": 19,
   "id": "24e8e3b6-e1eb-438d-a153-de7fdaf5759b",
   "metadata": {},
   "outputs": [
    {
     "name": "stdout",
     "output_type": "stream",
     "text": [
      "Fold number 1 / 5 on iteration 1\n"
     ]
    },
    {
     "name": "stderr",
     "output_type": "stream",
     "text": [
      "/home/othmane/anaconda3/envs/tf-38/lib/python3.8/site-packages/lightgbm/engine.py:148: UserWarning: Found `n_estimators` in params. Will use it instead of argument\n",
      "  _log_warning(\"Found `{}` in params. Will use it instead of argument\".format(alias))\n"
     ]
    },
    {
     "name": "stdout",
     "output_type": "stream",
     "text": [
      "[LightGBM] [Warning] Auto-choosing row-wise multi-threading, the overhead of testing was 0.096398 seconds.\n",
      "You can set `force_row_wise=true` to remove the overhead.\n",
      "And if memory is not enough, you can set `force_col_wise=true`.\n",
      "[LightGBM] [Info] Total Bins 6892\n",
      "[LightGBM] [Info] Number of data points in the train set: 2574809, number of used features: 64\n",
      "[LightGBM] [Info] Start training from score 1.000000\n",
      "Training until validation scores don't improve for 100 rounds\n",
      "Did not meet early stopping. Best iteration is:\n",
      "[233]\tvalid_0's l1: 7.84827\n",
      "mae 7.848274036041041\n",
      "Fold number 2 / 5 on iteration 1\n"
     ]
    },
    {
     "name": "stderr",
     "output_type": "stream",
     "text": [
      "/home/othmane/anaconda3/envs/tf-38/lib/python3.8/site-packages/lightgbm/engine.py:148: UserWarning: Found `n_estimators` in params. Will use it instead of argument\n",
      "  _log_warning(\"Found `{}` in params. Will use it instead of argument\".format(alias))\n"
     ]
    },
    {
     "name": "stdout",
     "output_type": "stream",
     "text": [
      "[LightGBM] [Warning] Auto-choosing row-wise multi-threading, the overhead of testing was 0.094952 seconds.\n",
      "You can set `force_row_wise=true` to remove the overhead.\n",
      "And if memory is not enough, you can set `force_col_wise=true`.\n",
      "[LightGBM] [Info] Total Bins 6872\n",
      "[LightGBM] [Info] Number of data points in the train set: 2574809, number of used features: 64\n",
      "[LightGBM] [Info] Start training from score 1.000000\n",
      "Training until validation scores don't improve for 100 rounds\n",
      "Did not meet early stopping. Best iteration is:\n",
      "[233]\tvalid_0's l1: 7.8109\n",
      "mae 7.810901499525997\n",
      "Fold number 3 / 5 on iteration 1\n"
     ]
    },
    {
     "name": "stderr",
     "output_type": "stream",
     "text": [
      "/home/othmane/anaconda3/envs/tf-38/lib/python3.8/site-packages/lightgbm/engine.py:148: UserWarning: Found `n_estimators` in params. Will use it instead of argument\n",
      "  _log_warning(\"Found `{}` in params. Will use it instead of argument\".format(alias))\n"
     ]
    },
    {
     "name": "stdout",
     "output_type": "stream",
     "text": [
      "[LightGBM] [Warning] Auto-choosing row-wise multi-threading, the overhead of testing was 0.118515 seconds.\n",
      "You can set `force_row_wise=true` to remove the overhead.\n",
      "And if memory is not enough, you can set `force_col_wise=true`.\n",
      "[LightGBM] [Info] Total Bins 6877\n",
      "[LightGBM] [Info] Number of data points in the train set: 2574810, number of used features: 64\n",
      "[LightGBM] [Info] Start training from score 1.000000\n",
      "Training until validation scores don't improve for 100 rounds\n",
      "Did not meet early stopping. Best iteration is:\n",
      "[233]\tvalid_0's l1: 7.69638\n",
      "mae 7.696382448178506\n",
      "Fold number 4 / 5 on iteration 1\n"
     ]
    },
    {
     "name": "stderr",
     "output_type": "stream",
     "text": [
      "/home/othmane/anaconda3/envs/tf-38/lib/python3.8/site-packages/lightgbm/engine.py:148: UserWarning: Found `n_estimators` in params. Will use it instead of argument\n",
      "  _log_warning(\"Found `{}` in params. Will use it instead of argument\".format(alias))\n"
     ]
    },
    {
     "name": "stdout",
     "output_type": "stream",
     "text": [
      "[LightGBM] [Warning] Auto-choosing row-wise multi-threading, the overhead of testing was 0.089693 seconds.\n",
      "You can set `force_row_wise=true` to remove the overhead.\n",
      "And if memory is not enough, you can set `force_col_wise=true`.\n",
      "[LightGBM] [Info] Total Bins 6910\n",
      "[LightGBM] [Info] Number of data points in the train set: 2574810, number of used features: 64\n",
      "[LightGBM] [Info] Start training from score 1.000000\n",
      "Training until validation scores don't improve for 100 rounds\n",
      "Did not meet early stopping. Best iteration is:\n",
      "[233]\tvalid_0's l1: 7.5756\n",
      "mae 7.575602831129641\n",
      "Fold number 5 / 5 on iteration 1\n"
     ]
    },
    {
     "name": "stderr",
     "output_type": "stream",
     "text": [
      "/home/othmane/anaconda3/envs/tf-38/lib/python3.8/site-packages/lightgbm/engine.py:148: UserWarning: Found `n_estimators` in params. Will use it instead of argument\n",
      "  _log_warning(\"Found `{}` in params. Will use it instead of argument\".format(alias))\n"
     ]
    },
    {
     "name": "stdout",
     "output_type": "stream",
     "text": [
      "[LightGBM] [Warning] Auto-choosing row-wise multi-threading, the overhead of testing was 0.091115 seconds.\n",
      "You can set `force_row_wise=true` to remove the overhead.\n",
      "And if memory is not enough, you can set `force_col_wise=true`.\n",
      "[LightGBM] [Info] Total Bins 6880\n",
      "[LightGBM] [Info] Number of data points in the train set: 2574810, number of used features: 64\n",
      "[LightGBM] [Info] Start training from score 1.000000\n",
      "Training until validation scores don't improve for 100 rounds\n",
      "Did not meet early stopping. Best iteration is:\n",
      "[233]\tvalid_0's l1: 7.67992\n",
      "mae 7.679917393921936\n",
      "Fold number 1 / 5 on iteration 2\n"
     ]
    },
    {
     "name": "stderr",
     "output_type": "stream",
     "text": [
      "/home/othmane/anaconda3/envs/tf-38/lib/python3.8/site-packages/lightgbm/engine.py:148: UserWarning: Found `n_estimators` in params. Will use it instead of argument\n",
      "  _log_warning(\"Found `{}` in params. Will use it instead of argument\".format(alias))\n"
     ]
    },
    {
     "name": "stdout",
     "output_type": "stream",
     "text": [
      "[LightGBM] [Warning] Auto-choosing row-wise multi-threading, the overhead of testing was 0.104528 seconds.\n",
      "You can set `force_row_wise=true` to remove the overhead.\n",
      "And if memory is not enough, you can set `force_col_wise=true`.\n",
      "[LightGBM] [Info] Total Bins 6860\n",
      "[LightGBM] [Info] Number of data points in the train set: 2574809, number of used features: 64\n",
      "[LightGBM] [Info] Start training from score 1.000000\n",
      "Training until validation scores don't improve for 100 rounds\n",
      "Did not meet early stopping. Best iteration is:\n",
      "[233]\tvalid_0's l1: 7.85879\n",
      "mae 7.858789709242043\n",
      "Fold number 2 / 5 on iteration 2\n"
     ]
    },
    {
     "name": "stderr",
     "output_type": "stream",
     "text": [
      "/home/othmane/anaconda3/envs/tf-38/lib/python3.8/site-packages/lightgbm/engine.py:148: UserWarning: Found `n_estimators` in params. Will use it instead of argument\n",
      "  _log_warning(\"Found `{}` in params. Will use it instead of argument\".format(alias))\n"
     ]
    },
    {
     "name": "stdout",
     "output_type": "stream",
     "text": [
      "[LightGBM] [Warning] Auto-choosing row-wise multi-threading, the overhead of testing was 0.089049 seconds.\n",
      "You can set `force_row_wise=true` to remove the overhead.\n",
      "And if memory is not enough, you can set `force_col_wise=true`.\n",
      "[LightGBM] [Info] Total Bins 6869\n",
      "[LightGBM] [Info] Number of data points in the train set: 2574809, number of used features: 64\n",
      "[LightGBM] [Info] Start training from score 1.000000\n",
      "Training until validation scores don't improve for 100 rounds\n",
      "Did not meet early stopping. Best iteration is:\n",
      "[233]\tvalid_0's l1: 7.84787\n",
      "mae 7.847873605087671\n",
      "Fold number 3 / 5 on iteration 2\n"
     ]
    },
    {
     "name": "stderr",
     "output_type": "stream",
     "text": [
      "/home/othmane/anaconda3/envs/tf-38/lib/python3.8/site-packages/lightgbm/engine.py:148: UserWarning: Found `n_estimators` in params. Will use it instead of argument\n",
      "  _log_warning(\"Found `{}` in params. Will use it instead of argument\".format(alias))\n"
     ]
    },
    {
     "name": "stdout",
     "output_type": "stream",
     "text": [
      "[LightGBM] [Warning] Auto-choosing row-wise multi-threading, the overhead of testing was 0.084273 seconds.\n",
      "You can set `force_row_wise=true` to remove the overhead.\n",
      "And if memory is not enough, you can set `force_col_wise=true`.\n",
      "[LightGBM] [Info] Total Bins 6907\n",
      "[LightGBM] [Info] Number of data points in the train set: 2574810, number of used features: 64\n",
      "[LightGBM] [Info] Start training from score 1.000000\n",
      "Training until validation scores don't improve for 100 rounds\n",
      "Did not meet early stopping. Best iteration is:\n",
      "[233]\tvalid_0's l1: 7.69648\n",
      "mae 7.6964767900519035\n",
      "Fold number 4 / 5 on iteration 2\n"
     ]
    },
    {
     "name": "stderr",
     "output_type": "stream",
     "text": [
      "/home/othmane/anaconda3/envs/tf-38/lib/python3.8/site-packages/lightgbm/engine.py:148: UserWarning: Found `n_estimators` in params. Will use it instead of argument\n",
      "  _log_warning(\"Found `{}` in params. Will use it instead of argument\".format(alias))\n"
     ]
    },
    {
     "name": "stdout",
     "output_type": "stream",
     "text": [
      "[LightGBM] [Warning] Auto-choosing row-wise multi-threading, the overhead of testing was 0.086859 seconds.\n",
      "You can set `force_row_wise=true` to remove the overhead.\n",
      "And if memory is not enough, you can set `force_col_wise=true`.\n",
      "[LightGBM] [Info] Total Bins 6894\n",
      "[LightGBM] [Info] Number of data points in the train set: 2574810, number of used features: 64\n",
      "[LightGBM] [Info] Start training from score 1.000000\n",
      "Training until validation scores don't improve for 100 rounds\n",
      "Did not meet early stopping. Best iteration is:\n",
      "[233]\tvalid_0's l1: 7.56561\n",
      "mae 7.565608808584874\n",
      "Fold number 5 / 5 on iteration 2\n"
     ]
    },
    {
     "name": "stderr",
     "output_type": "stream",
     "text": [
      "/home/othmane/anaconda3/envs/tf-38/lib/python3.8/site-packages/lightgbm/engine.py:148: UserWarning: Found `n_estimators` in params. Will use it instead of argument\n",
      "  _log_warning(\"Found `{}` in params. Will use it instead of argument\".format(alias))\n"
     ]
    },
    {
     "name": "stdout",
     "output_type": "stream",
     "text": [
      "[LightGBM] [Warning] Auto-choosing row-wise multi-threading, the overhead of testing was 0.098421 seconds.\n",
      "You can set `force_row_wise=true` to remove the overhead.\n",
      "And if memory is not enough, you can set `force_col_wise=true`.\n",
      "[LightGBM] [Info] Total Bins 6903\n",
      "[LightGBM] [Info] Number of data points in the train set: 2574810, number of used features: 64\n",
      "[LightGBM] [Info] Start training from score 1.000000\n",
      "Training until validation scores don't improve for 100 rounds\n",
      "Did not meet early stopping. Best iteration is:\n",
      "[233]\tvalid_0's l1: 7.70697\n",
      "mae 7.706966346269478\n"
     ]
    }
   ],
   "source": [
    "NFOLDS = 5\n",
    "N_ITER = 2\n",
    "kfold = KFold(n_splits=NFOLDS, shuffle=True, random_state=420)\n",
    "num_boost_round = 10000\n",
    "\n",
    "final_cv_train = np.zeros(len(Xx))\n",
    "final_cv_pred = np.zeros(len(test_df))\n",
    "\n",
    "for s in range(N_ITER):\n",
    "    cv_train = np.zeros(len(Xx))\n",
    "    cv_pred = np.zeros(len(test_df))\n",
    "\n",
    "    best_params['seed'] = s\n",
    "\n",
    "    kf = kfold.split(train_df)\n",
    "\n",
    "    best_trees = []\n",
    "    fold_scores = []\n",
    "\n",
    "    for i, (train_fold, validate) in enumerate(kf):\n",
    "        print(f\"Fold number {i + 1} / {NFOLDS} on iteration {s + 1}\")\n",
    "        X_train, X_validate, label_train, label_validate = \\\n",
    "            X[train_fold, :], X[validate, :], yy[train_fold], yy[validate]\n",
    "        dtrain = lgbm.Dataset(X_train, label_train)\n",
    "        dvalid = lgbm.Dataset(X_validate, label_validate, reference=dtrain)\n",
    "        bst = lgbm.train(best_params, dtrain, num_boost_round, \n",
    "                         valid_sets=dvalid, verbose_eval=500,\n",
    "                         early_stopping_rounds=100)\n",
    "        best_trees.append(bst.best_iteration)\n",
    "        cv_pred += bst.predict(X_test, num_iteration=bst.best_iteration)\n",
    "        cv_train[validate] += bst.predict(X_validate)\n",
    "\n",
    "        score = mean_absolute_error(label_validate, cv_train[validate])\n",
    "        print(\"mae\", score)\n",
    "        fold_scores.append(score)\n",
    "        \n",
    "    cv_pred /= NFOLDS\n",
    "    final_cv_train += cv_train\n",
    "    final_cv_pred += cv_pred\n",
    "\n",
    "final_preds = final_cv_pred / N_ITER"
   ]
  },
  {
   "cell_type": "code",
   "execution_count": 22,
   "id": "9d140dba-c73f-485e-9865-b782adfff32f",
   "metadata": {},
   "outputs": [],
   "source": [
    "subs = pd.DataFrame({'id': test_df.id, 'predicted': final_preds})\n",
    "subs.to_csv('subs_lgbm.csv', index=False)"
   ]
  },
  {
   "cell_type": "code",
   "execution_count": null,
   "id": "5aceb518-d948-4aad-b802-27ebcb1f9847",
   "metadata": {},
   "outputs": [],
   "source": []
  }
 ],
 "metadata": {
  "kernelspec": {
   "display_name": "Python 3",
   "language": "python",
   "name": "python3"
  },
  "language_info": {
   "codemirror_mode": {
    "name": "ipython",
    "version": 3
   },
   "file_extension": ".py",
   "mimetype": "text/x-python",
   "name": "python",
   "nbconvert_exporter": "python",
   "pygments_lexer": "ipython3",
   "version": "3.8.8"
  }
 },
 "nbformat": 4,
 "nbformat_minor": 5
}
